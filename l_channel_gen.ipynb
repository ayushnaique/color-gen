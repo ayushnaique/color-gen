{
 "cells": [
  {
   "cell_type": "code",
   "execution_count": 4,
   "metadata": {},
   "outputs": [],
   "source": [
    "import cv2\n",
    "import os\n",
    "\n",
    "# command to seach all subdir of image files and put it in single file\n",
    "# find ./imagewang/train -type f -exec mv {} ./images_color \\;\n",
    "\n",
    "# specify the folder path\n",
    "folder_path = './images_color'\n",
    "\n",
    "#result forder for L images\n",
    "result_path = './images_black'\n",
    "\n",
    "# loop through all the files in the folder\n",
    "for filename in os.listdir(folder_path):\n",
    "    # check if the file is an image\n",
    "    if filename.endswith(\".jpg\") or filename.endswith(\".png\") or filename.endswith(\".JPEG\"):\n",
    "        # read the image\n",
    "        img = cv2.imread(os.path.join(folder_path, filename))\n",
    "        lab = cv2.cvtColor(img, cv2.COLOR_RGB2LAB)\n",
    "        L = lab[:,:,0]\n",
    "        cv2.imwrite(f\"{result_path}/L_{filename}.jpg\", L)\n",
    "        # do something with the image (e.g., display it)"
   ]
  },
  {
   "cell_type": "code",
   "execution_count": 10,
   "metadata": {},
   "outputs": [
    {
     "data": {
      "text/plain": [
       "True"
      ]
     },
     "execution_count": 10,
     "metadata": {},
     "output_type": "execute_result"
    }
   ],
   "source": []
  },
  {
   "cell_type": "code",
   "execution_count": 6,
   "metadata": {},
   "outputs": [
    {
     "name": "stdout",
     "output_type": "stream",
     "text": [
      "(250, 250, 3)\n"
     ]
    }
   ],
   "source": []
  }
 ],
 "metadata": {
  "kernelspec": {
   "display_name": "ml",
   "language": "python",
   "name": "python3"
  },
  "language_info": {
   "codemirror_mode": {
    "name": "ipython",
    "version": 3
   },
   "file_extension": ".py",
   "mimetype": "text/x-python",
   "name": "python",
   "nbconvert_exporter": "python",
   "pygments_lexer": "ipython3",
   "version": "3.10.0"
  }
 },
 "nbformat": 4,
 "nbformat_minor": 2
}
